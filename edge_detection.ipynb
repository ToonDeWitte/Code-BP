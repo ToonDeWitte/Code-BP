{
 "cells": [
  {
   "attachments": {},
   "cell_type": "markdown",
   "metadata": {},
   "source": [
    "# Edge Detection"
   ]
  },
  {
   "attachments": {},
   "cell_type": "markdown",
   "metadata": {},
   "source": [
    "Import dependencies"
   ]
  },
  {
   "cell_type": "code",
   "execution_count": 2,
   "metadata": {},
   "outputs": [],
   "source": [
    "import glob\n",
    "import cv2\n",
    "import numpy as np"
   ]
  },
  {
   "attachments": {},
   "cell_type": "markdown",
   "metadata": {},
   "source": [
    "Load images"
   ]
  },
  {
   "cell_type": "code",
   "execution_count": 3,
   "metadata": {},
   "outputs": [],
   "source": [
    "images = glob.glob(\"./*/*/*/*[0-9].png\")"
   ]
  },
  {
   "attachments": {},
   "cell_type": "markdown",
   "metadata": {},
   "source": [
    "Apply the Canny Edge detection algorithm to each image an save the mask"
   ]
  },
  {
   "cell_type": "code",
   "execution_count": 4,
   "metadata": {},
   "outputs": [],
   "source": [
    "save_name = \"edge_detection.png\"\n",
    "\n",
    "for image in images:\n",
    "    #Construct save path\n",
    "    save_path = image.replace(image.split(\"\\\\\")[-1], \"\")\n",
    "\n",
    "    #Load image to memory in grayscale\n",
    "    cached_image = cv2.imread(image, cv2.IMREAD_GRAYSCALE)\n",
    "\n",
    "    #Detect sensor and set threshold values accordingly\n",
    "    threshold_value1 = 25 if \"FX10\" in image else 75\n",
    "    threshold_value2 = 80 if \"FX10\" in image else 230\n",
    "\n",
    "    #Apply Canny Edge detection algorithm to the image\n",
    "    result = cv2.Canny(cached_image, threshold_value1, threshold_value2)\n",
    "\n",
    "    #Save the binary image\n",
    "    cv2.imwrite('{}{}'.format(save_path, save_name), result)"
   ]
  }
 ],
 "metadata": {
  "kernelspec": {
   "display_name": "Python 3",
   "language": "python",
   "name": "python3"
  },
  "language_info": {
   "codemirror_mode": {
    "name": "ipython",
    "version": 3
   },
   "file_extension": ".py",
   "mimetype": "text/x-python",
   "name": "python",
   "nbconvert_exporter": "python",
   "pygments_lexer": "ipython3",
   "version": "3.8.5"
  },
  "orig_nbformat": 4,
  "vscode": {
   "interpreter": {
    "hash": "9650cb4e16cdd4a8e8e2d128bf38d875813998db22a3c986335f89e0cb4d7bb2"
   }
  }
 },
 "nbformat": 4,
 "nbformat_minor": 2
}
