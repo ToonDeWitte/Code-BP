{
 "cells": [
  {
   "attachments": {},
   "cell_type": "markdown",
   "metadata": {},
   "source": [
    "# K-Means Clustering"
   ]
  },
  {
   "attachments": {},
   "cell_type": "markdown",
   "metadata": {},
   "source": [
    "Import dependencies"
   ]
  },
  {
   "cell_type": "code",
   "execution_count": 1,
   "metadata": {},
   "outputs": [],
   "source": [
    "import glob\n",
    "import cv2\n",
    "import numpy as np\n",
    "\n",
    "from sklearn.cluster import KMeans\n",
    "from skimage.color import rgb2gray"
   ]
  },
  {
   "attachments": {},
   "cell_type": "markdown",
   "metadata": {},
   "source": [
    "Load images"
   ]
  },
  {
   "cell_type": "code",
   "execution_count": 2,
   "metadata": {},
   "outputs": [],
   "source": [
    "images = glob.glob(\"./*/*/*/[0-9]*[0-9].png\")"
   ]
  },
  {
   "attachments": {},
   "cell_type": "markdown",
   "metadata": {},
   "source": [
    "Train K-Means algorithm on example image of each sensor"
   ]
  },
  {
   "cell_type": "code",
   "execution_count": 3,
   "metadata": {},
   "outputs": [],
   "source": [
    "def train_kmeans(image_path, cluster_size):\n",
    "    #load image data\n",
    "    image = cv2.imread(image_path)\n",
    "    #Reshape data to 2D array\n",
    "    image_data = np.reshape(image, (image.shape[0] * image.shape[1], 3))\n",
    "    #Train KMeans with given parameters\n",
    "    kmeans = KMeans(n_clusters = cluster_size, random_state=0).fit(image_data)\n",
    "\n",
    "    return kmeans"
   ]
  },
  {
   "cell_type": "code",
   "execution_count": 4,
   "metadata": {},
   "outputs": [],
   "source": [
    "def apply_kmeans(image_path, models, sensor, cluster_size):\n",
    "    #Load image data\n",
    "    image = cv2.imread(image_path)\n",
    "    #Reshape data to 2D array\n",
    "    image_data = np.reshape(image, (image.shape[0] * image.shape[1], 3))\n",
    "    #Apply model to image data\n",
    "    prediction = models[\"{}_{}\".format(sensor, str(cluster_size))].predict(image_data)\n",
    "    #Reshape result to image dimensions\n",
    "    prediction  = np.reshape(prediction, (image.shape[0], image.shape[1], 1))\n",
    "\n",
    "    return prediction"
   ]
  },
  {
   "cell_type": "code",
   "execution_count": 5,
   "metadata": {},
   "outputs": [],
   "source": [
    "cluster_sizes = range(2, 7)"
   ]
  },
  {
   "cell_type": "code",
   "execution_count": 6,
   "metadata": {},
   "outputs": [
    {
     "name": "stderr",
     "output_type": "stream",
     "text": [
      "c:\\Python38\\lib\\site-packages\\sklearn\\cluster\\_kmeans.py:870: FutureWarning: The default value of `n_init` will change from 10 to 'auto' in 1.4. Set the value of `n_init` explicitly to suppress the warning\n",
      "  warnings.warn(\n",
      "c:\\Python38\\lib\\site-packages\\sklearn\\cluster\\_kmeans.py:870: FutureWarning: The default value of `n_init` will change from 10 to 'auto' in 1.4. Set the value of `n_init` explicitly to suppress the warning\n",
      "  warnings.warn(\n",
      "c:\\Python38\\lib\\site-packages\\sklearn\\cluster\\_kmeans.py:870: FutureWarning: The default value of `n_init` will change from 10 to 'auto' in 1.4. Set the value of `n_init` explicitly to suppress the warning\n",
      "  warnings.warn(\n",
      "c:\\Python38\\lib\\site-packages\\sklearn\\cluster\\_kmeans.py:870: FutureWarning: The default value of `n_init` will change from 10 to 'auto' in 1.4. Set the value of `n_init` explicitly to suppress the warning\n",
      "  warnings.warn(\n",
      "c:\\Python38\\lib\\site-packages\\sklearn\\cluster\\_kmeans.py:870: FutureWarning: The default value of `n_init` will change from 10 to 'auto' in 1.4. Set the value of `n_init` explicitly to suppress the warning\n",
      "  warnings.warn(\n",
      "c:\\Python38\\lib\\site-packages\\sklearn\\cluster\\_kmeans.py:870: FutureWarning: The default value of `n_init` will change from 10 to 'auto' in 1.4. Set the value of `n_init` explicitly to suppress the warning\n",
      "  warnings.warn(\n",
      "c:\\Python38\\lib\\site-packages\\sklearn\\cluster\\_kmeans.py:870: FutureWarning: The default value of `n_init` will change from 10 to 'auto' in 1.4. Set the value of `n_init` explicitly to suppress the warning\n",
      "  warnings.warn(\n",
      "c:\\Python38\\lib\\site-packages\\sklearn\\cluster\\_kmeans.py:870: FutureWarning: The default value of `n_init` will change from 10 to 'auto' in 1.4. Set the value of `n_init` explicitly to suppress the warning\n",
      "  warnings.warn(\n",
      "c:\\Python38\\lib\\site-packages\\sklearn\\cluster\\_kmeans.py:870: FutureWarning: The default value of `n_init` will change from 10 to 'auto' in 1.4. Set the value of `n_init` explicitly to suppress the warning\n",
      "  warnings.warn(\n",
      "c:\\Python38\\lib\\site-packages\\sklearn\\cluster\\_kmeans.py:870: FutureWarning: The default value of `n_init` will change from 10 to 'auto' in 1.4. Set the value of `n_init` explicitly to suppress the warning\n",
      "  warnings.warn(\n"
     ]
    },
    {
     "data": {
      "text/plain": [
       "{'FX10_2': KMeans(n_clusters=2, random_state=0),\n",
       " 'FX17_2': KMeans(n_clusters=2, random_state=0),\n",
       " 'FX10_3': KMeans(n_clusters=3, random_state=0),\n",
       " 'FX17_3': KMeans(n_clusters=3, random_state=0),\n",
       " 'FX10_4': KMeans(n_clusters=4, random_state=0),\n",
       " 'FX17_4': KMeans(n_clusters=4, random_state=0),\n",
       " 'FX10_5': KMeans(n_clusters=5, random_state=0),\n",
       " 'FX17_5': KMeans(n_clusters=5, random_state=0),\n",
       " 'FX10_6': KMeans(n_clusters=6, random_state=0),\n",
       " 'FX17_6': KMeans(n_clusters=6, random_state=0)}"
      ]
     },
     "execution_count": 6,
     "metadata": {},
     "output_type": "execute_result"
    }
   ],
   "source": [
    "FX10_train_image = glob.glob(\"./*/*/*/20220124_FX10__ras5_1-30_A_2022-01-24_09-52-45.png\")[0]\n",
    "FX17_train_image = glob.glob(\"./*/*/*/20220124_FX17__ras5_1-30_A_2022-01-24_09-52-46.png\")[0]\n",
    "\n",
    "models = {}\n",
    "\n",
    "for idx in cluster_sizes:\n",
    "    models[\"FX10_{}\".format(idx)] = train_kmeans(FX10_train_image, idx)\n",
    "    models[\"FX17_{}\".format(idx)] = train_kmeans(FX17_train_image, idx)\n",
    "\n",
    "models"
   ]
  },
  {
   "cell_type": "code",
   "execution_count": 7,
   "metadata": {},
   "outputs": [
    {
     "name": "stdout",
     "output_type": "stream",
     "text": [
      ".\\Analysis_BP\\FX10\\20220121_FX10__ras1_1-15_A_2022-01-21_09-12-35\\20220121_FX10__ras1_1-15_2022-01-21_09-12-35.png .\\Analysis_BP\\FX17\\20220121_FX17__ras1_1-15_A_2022-01-21_09-12-35\\20220121_FX17__ras1_1-15_2022-01-21_09-12-35.png\n"
     ]
    }
   ],
   "source": [
    "FX10_test_image = images[0]  #FX10 R1 1-15 A 21\n",
    "FX17_test_image = images[73] #FX17 R1 1-15 A 21\n",
    "\n",
    "print(FX10_test_image, FX17_test_image)\n",
    "\n",
    "for model in models:\n",
    "    details = model.split(\"_\")\n",
    "    prediction = apply_kmeans(FX10_test_image if \"FX10\" in model else FX17_test_image, models, details[0], details[1])\n",
    "\n",
    "    if model == \"FX10_2\":\n",
    "        prediction = prediction == 1\n",
    "    elif model == \"FX17_2\":\n",
    "        prediction = prediction == 0\n",
    "    elif model == \"FX10_3\":\n",
    "        prediction = prediction == 0\n",
    "    elif model == \"FX17_3\":\n",
    "        prediction = prediction == 2\n",
    "    elif model == \"FX10_4\":\n",
    "        prediction = prediction == 3\n",
    "    elif model == \"FX17_4\":\n",
    "        fg_cluster_0 = prediction == 0\n",
    "        fg_cluster_1 = prediction == 3\n",
    "        prediction =  fg_cluster_0 | fg_cluster_1\n",
    "    elif model == \"FX10_5\":\n",
    "        fg_cluster_0 = prediction == 2\n",
    "        fg_cluster_1 = prediction == 3\n",
    "        prediction =  fg_cluster_0 | fg_cluster_1\n",
    "    elif model == \"FX17_5\":\n",
    "        fg_cluster_0 = prediction == 1\n",
    "        fg_cluster_1 = prediction == 2\n",
    "        fg_cluster_2 = prediction == 4\n",
    "        prediction =  fg_cluster_0 | fg_cluster_1 | fg_cluster_2\n",
    "    elif model == \"FX10_6\":\n",
    "        fg_cluster_0 = prediction == 0\n",
    "        fg_cluster_1 = prediction == 3\n",
    "        prediction =  fg_cluster_0 | fg_cluster_1\n",
    "    elif model == \"FX17_6\":\n",
    "        fg_cluster_0 = prediction == 2\n",
    "        fg_cluster_1 = prediction == 4\n",
    "        fg_cluster_2 = prediction == 5\n",
    "        prediction =  fg_cluster_0 | fg_cluster_1 | fg_cluster_2\n",
    "    \n",
    "    cv2.imwrite(\"./KMeans_cluster_test/{}_test.png\".format(model), prediction.astype(np.uint8)*255)"
   ]
  },
  {
   "cell_type": "code",
   "execution_count": 85,
   "metadata": {},
   "outputs": [],
   "source": [
    "def evaluate_image(image, save_name, wref_path, control = \"\", wref = False):\n",
    "    image_path = image.replace(image.split(\"\\\\\")[-1], \"\")\n",
    "\n",
    "    control = cv2.imread(\"{}{}.png\".format(image_path, control)).reshape(-1) if control != \"\" else cv2.imread(\"{}labelbox_mask_combination.png\".format(image_path)).reshape(-1)\n",
    "    \n",
    "    to_be_evaluated = cv2.imread(\"{}{}\".format(image_path, save_name))\n",
    "\n",
    "\n",
    "    shape = to_be_evaluated.shape\n",
    "    result = np.full(shape, (0, 0, 0), dtype=np.uint8)\n",
    "\n",
    "    if wref:\n",
    "        to_be_evaluated_wref = cv2.imread(wref_path)\n",
    "\n",
    "        result = to_be_evaluated & to_be_evaluated_wref\n",
    "\n",
    "        to_be_evaluated = result.reshape(-1)\n",
    "    else:\n",
    "        to_be_evaluated.reshape(-1)\n",
    "    \n",
    "\n",
    "    stats = {\n",
    "    \"total\": control.shape[0],\n",
    "    \"control_fg\" : 0,\n",
    "    \"control_bg\" : 0,\n",
    "    \"eval_fg\" : 0,\n",
    "    \"eval_bg\" : 0,\n",
    "    \"correct\" : 0,\n",
    "    \"correct_bg\" : 0,\n",
    "    \"correct_fg\" : 0,\n",
    "    \"false\" : 0,\n",
    "    \"false_bg\" : 0,\n",
    "    \"false_fg\" : 0,\n",
    "    }\n",
    "\n",
    "    for c, e in zip(control, to_be_evaluated):\n",
    "        if c == 0:\n",
    "            stats[\"control_bg\"] += 1\n",
    "        else:\n",
    "            stats[\"control_fg\"] += 1\n",
    "\n",
    "        if e == 0:\n",
    "            stats[\"eval_bg\"] += 1\n",
    "        else:\n",
    "            stats[\"eval_fg\"] += 1\n",
    "\n",
    "        if c == e:\n",
    "            stats[\"correct\"] += 1\n",
    "            if c == 0:\n",
    "                stats[\"correct_bg\"] += 1\n",
    "            else:\n",
    "                stats[\"correct_fg\"] += 1 \n",
    "        if c != e:\n",
    "            stats[\"false\"] += 1\n",
    "            if c == 0:\n",
    "                stats[\"false_bg\"] += 1\n",
    "            else:\n",
    "                stats[\"false_fg\"] += 1 \n",
    "\n",
    "    file = open(\"{}results_evaluation_{}.txt\".format(image_path, save_name.split(\".\")[0]), \"w\")\n",
    "    file.write(\"{}\".format(image.split(\"\\\\\")[-1]).split(\".png\")[0] + \"\\n\\n\")\n",
    "\n",
    "    for stat in stats:\n",
    "        file.write(\"{}: {}\\n\".format(stat, stats[stat]))\n",
    "        \n",
    "    file.write(\"\\n\")\n",
    "    for stat in stats:\n",
    "        file.write(\"{} (%): {}\\n\".format(stat, stats[stat] * 100 / control.shape[0]))\n",
    "\n",
    "    file.close()\n",
    "\n",
    "    print(\"Evaluated: {}{}\".format(image_path, save_name.split(\".\")[0]))\n",
    "\n",
    "    return to_be_evaluated, shape"
   ]
  },
  {
   "cell_type": "code",
   "execution_count": 86,
   "metadata": {},
   "outputs": [
    {
     "name": "stdout",
     "output_type": "stream",
     "text": [
      "Evaluated: .\\KMeans_cluster_test\\FX10_2_test\n",
      "Evaluated: .\\KMeans_cluster_test\\FX17_2_test\n",
      "Evaluated: .\\KMeans_cluster_test\\FX10_3_test\n",
      "Evaluated: .\\KMeans_cluster_test\\FX17_3_test\n",
      "Evaluated: .\\KMeans_cluster_test\\FX10_4_test\n",
      "Evaluated: .\\KMeans_cluster_test\\FX17_4_test\n",
      "Evaluated: .\\KMeans_cluster_test\\FX10_5_test\n",
      "Evaluated: .\\KMeans_cluster_test\\FX17_5_test\n",
      "Evaluated: .\\KMeans_cluster_test\\FX10_6_test\n",
      "Evaluated: .\\KMeans_cluster_test\\FX17_6_test\n"
     ]
    }
   ],
   "source": [
    "for model in models:\n",
    "    eval_img, shape = evaluate_image(\".\\\\KMeans_cluster_test\\\\{}_test.png\".format(model), \"{}_test.png\".format(model), \n",
    "    wref_path = \".\\\\KMeans_cluster_test\\\\FX10_wref_mask.png\" if \"FX10\" in model else \".\\\\KMeans_cluster_test\\\\FX17_wref_mask.png\",\n",
    "    control = \"FX10_labelbox\" if \"FX10\" in model else \"FX17_labelbox\", wref = True)\n",
    "\n",
    "    eval_img = eval_img.reshape(shape)\n",
    "    \n",
    "    cv2.imwrite(\"./KMeans_cluster_test/{}_test_wref.png\".format(model), eval_img)\n",
    "    # print(shape)"
   ]
  },
  {
   "attachments": {},
   "cell_type": "markdown",
   "metadata": {},
   "source": [
    "Apply K-Means Clustering algorithm to each image an save the mask"
   ]
  },
  {
   "cell_type": "code",
   "execution_count": 8,
   "metadata": {},
   "outputs": [],
   "source": [
    "save_name = \"k-means_{}_clusters.png\"\n",
    "\n",
    "for image in images:\n",
    "    #Construct save path\n",
    "    save_path = image.replace(image.split(\"\\\\\")[-1], \"\")\n",
    "\n",
    "    #Load image to memory in grayscale\n",
    "    cached_image = cv2.imread(image)\n",
    "\n",
    "    # #Detect sensor and set threshold value accordingly\n",
    "    sensor = \"FX10\" if \"FX10\" in image else \"FX17\"\n",
    "\n",
    "    # #Apply k-means to the image\n",
    "    result = apply_kmeans(image, models, sensor, 4)\n",
    "\n",
    "    if sensor == \"FX10\":\n",
    "        result = result == 3\n",
    "    elif sensor == \"FX17\":\n",
    "        fg_cluster_0 = result == 0\n",
    "        fg_cluster_1 = result == 3\n",
    "        result =  fg_cluster_0 | fg_cluster_1\n",
    "\n",
    "    #Save the binary image\n",
    "    cv2.imwrite('{}{}'.format(save_path, save_name.format(\"4\")), result.astype(np.uint8)*255)"
   ]
  },
  {
   "attachments": {},
   "cell_type": "markdown",
   "metadata": {},
   "source": [
    "Evaluate the mask quality and save the results"
   ]
  },
  {
   "cell_type": "code",
   "execution_count": 34,
   "metadata": {},
   "outputs": [],
   "source": [
    "for image in images:\n",
    "    image_path = image.replace(image.split(\"\\\\\")[-1], \"\")\n",
    "    control = cv2.imread(\"{}labelbox_mask_combination.png\".format(image_path)).reshape(-1)\n",
    "    to_be_evaluated = cv2.imread(\"{}{}\".format(image_path, save_name)).reshape(-1)\n",
    "\n",
    "    stats = {\n",
    "    \"total\": control.shape[0],\n",
    "    \"correct\" : 0,\n",
    "    \"correct_bg\" : 0,\n",
    "    \"correct_fg\" : 0,\n",
    "    \"false\" : 0,\n",
    "    \"false_bg\" : 0,\n",
    "    \"false_fg\" : 0,\n",
    "    }\n",
    "\n",
    "    for c, e in zip(control, to_be_evaluated):\n",
    "        if c == e:\n",
    "            stats[\"correct\"] += 1\n",
    "            if c == 0:\n",
    "                stats[\"correct_bg\"] += 1\n",
    "            else:\n",
    "                stats[\"correct_fg\"] += 1 \n",
    "        if c != e:\n",
    "            stats[\"false\"] += 1\n",
    "            if c == 0:\n",
    "                stats[\"false_bg\"] += 1\n",
    "            else:\n",
    "                stats[\"false_fg\"] += 1 \n",
    "\n",
    "    file = open(\"{}results_evaluation_kmeans.txt\".format(image_path), \"w\")\n",
    "    file.write(\"{}\\n\".format(image.split(\"\\\\\")[-1]).split(\".png\")[0])\n",
    "    file.write(\"\\n\")\n",
    "\n",
    "    for stat in stats:\n",
    "        file.write(\"{}: {}\\n\".format(stat, stats[stat]))\n",
    "        \n",
    "    file.write(\"\\n\")\n",
    "    for stat in stats:\n",
    "        file.write(\"{} (%): {}\\n\".format(stat, stats[stat] * 100 / control.shape[0]))\n",
    "\n",
    "    file.close()"
   ]
  }
 ],
 "metadata": {
  "kernelspec": {
   "display_name": "Python 3",
   "language": "python",
   "name": "python3"
  },
  "language_info": {
   "codemirror_mode": {
    "name": "ipython",
    "version": 3
   },
   "file_extension": ".py",
   "mimetype": "text/x-python",
   "name": "python",
   "nbconvert_exporter": "python",
   "pygments_lexer": "ipython3",
   "version": "3.8.5"
  },
  "orig_nbformat": 4,
  "vscode": {
   "interpreter": {
    "hash": "9650cb4e16cdd4a8e8e2d128bf38d875813998db22a3c986335f89e0cb4d7bb2"
   }
  }
 },
 "nbformat": 4,
 "nbformat_minor": 2
}
