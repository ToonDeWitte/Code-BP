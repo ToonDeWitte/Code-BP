{
 "cells": [
  {
   "attachments": {},
   "cell_type": "markdown",
   "metadata": {},
   "source": [
    "# Watershed"
   ]
  },
  {
   "attachments": {},
   "cell_type": "markdown",
   "metadata": {},
   "source": [
    "Import dependencies"
   ]
  },
  {
   "cell_type": "code",
   "execution_count": 1,
   "metadata": {},
   "outputs": [],
   "source": [
    "import glob\n",
    "import cv2\n",
    "import numpy as np"
   ]
  },
  {
   "attachments": {},
   "cell_type": "markdown",
   "metadata": {},
   "source": [
    "Load images"
   ]
  },
  {
   "cell_type": "code",
   "execution_count": 2,
   "metadata": {},
   "outputs": [],
   "source": [
    "images = glob.glob(\"./*/*/*/[0-9]*[0-9].png\")"
   ]
  },
  {
   "attachments": {},
   "cell_type": "markdown",
   "metadata": {},
   "source": [
    "Apply watershed to each image an save the mask"
   ]
  },
  {
   "cell_type": "code",
   "execution_count": 5,
   "metadata": {},
   "outputs": [],
   "source": [
    "save_name = \"watershed.png\"\n",
    "\n",
    "for image in images:\n",
    "    #Construct save path\n",
    "    save_path = image.replace(image.split(\"\\\\\")[-1], \"\")\n",
    "\n",
    "    #Load image to memory in color and grayscale\n",
    "    cached_image = cv2.imread(image)\n",
    "    cached_image_gray = cv2.imread(image, cv2.IMREAD_GRAYSCALE)\n",
    "\n",
    "    #Detect sensor and set threshold value accordingly\n",
    "    threshold_value = 54.75 if \"FX10\" in image else 93.47\n",
    "\n",
    "    #Apply thresholding to the image\n",
    "    threshold_result = cached_image_gray > threshold_value\n",
    "\n",
    "    #Noise removal\n",
    "    kernel_11 = np.ones((11,11), np.uint8)\n",
    "    opening = cv2.morphologyEx(threshold_result.astype(np.uint8) * 255, cv2.MORPH_OPEN, kernel_11, iterations = 4)\n",
    "\n",
    "    #Finding sure background area\n",
    "    sure_bg = cv2.dilate(opening, kernel_11, iterations = 5)\n",
    "\n",
    "    #Finding sure foreground area\n",
    "    dist_transform = cv2.distanceTransform(opening, cv2.DIST_L2, 5)\n",
    "    ret, sure_fg = cv2.threshold(dist_transform, 0.03 * dist_transform.max(), 255, 0)\n",
    "\n",
    "    #Finding unknown region\n",
    "    sure_fg = np.uint8(sure_fg)\n",
    "    unknown = cv2.subtract(sure_bg, sure_fg)\n",
    "\n",
    "    #Marker labelling\n",
    "    ret, markers = cv2.connectedComponents(sure_fg, connectivity = 8)\n",
    "\n",
    "    #Add one to all labels so that sure background is not 0, but 1\n",
    "    markers = markers + 1\n",
    "    #Mark the region of unknown with zero and apply watershed\n",
    "    markers[unknown == 255] = 0\n",
    "    markers = cv2.watershed(cached_image, markers)\n",
    "\n",
    "    #Mark every pixel with 1 value as background\n",
    "    result = markers != 1\n",
    "\n",
    "    #Save the binary image\n",
    "    cv2.imwrite('{}{}'.format(save_path, save_name), result.astype(np.uint8)*255)"
   ]
  }
 ],
 "metadata": {
  "kernelspec": {
   "display_name": "Python 3",
   "language": "python",
   "name": "python3"
  },
  "language_info": {
   "codemirror_mode": {
    "name": "ipython",
    "version": 3
   },
   "file_extension": ".py",
   "mimetype": "text/x-python",
   "name": "python",
   "nbconvert_exporter": "python",
   "pygments_lexer": "ipython3",
   "version": "3.8.5"
  },
  "orig_nbformat": 4,
  "vscode": {
   "interpreter": {
    "hash": "9650cb4e16cdd4a8e8e2d128bf38d875813998db22a3c986335f89e0cb4d7bb2"
   }
  }
 },
 "nbformat": 4,
 "nbformat_minor": 2
}
