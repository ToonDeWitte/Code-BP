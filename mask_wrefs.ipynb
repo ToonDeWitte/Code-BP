{
 "cells": [
  {
   "attachments": {},
   "cell_type": "markdown",
   "metadata": {},
   "source": [
    "# Detect white references and create a mask covering them."
   ]
  },
  {
   "attachments": {},
   "cell_type": "markdown",
   "metadata": {},
   "source": [
    "Import dependencies"
   ]
  },
  {
   "cell_type": "code",
   "execution_count": null,
   "metadata": {},
   "outputs": [],
   "source": [
    "import glob\n",
    "import cv2\n",
    "import copy\n",
    "import numpy as np\n",
    "import matplotlib.pyplot as plt"
   ]
  },
  {
   "attachments": {},
   "cell_type": "markdown",
   "metadata": {},
   "source": [
    "Load images"
   ]
  },
  {
   "cell_type": "code",
   "execution_count": null,
   "metadata": {},
   "outputs": [],
   "source": [
    "images = glob.glob(\"./*/*/*/*[0-9].png\")"
   ]
  },
  {
   "attachments": {},
   "cell_type": "markdown",
   "metadata": {},
   "source": [
    "Find white references and mask them with given margin"
   ]
  },
  {
   "cell_type": "code",
   "execution_count": 79,
   "metadata": {},
   "outputs": [],
   "source": [
    "save_name = \"wref_mask.png\"\n",
    "\n",
    "# Toggle plots on and off\n",
    "visualize = False\n",
    "\n",
    "for image in images:\n",
    "    #Construct save path\n",
    "    save_path = image.replace(image.split(\"\\\\\")[-1], \"\")\n",
    "\n",
    "    #Load image to memory in grayscale\n",
    "    cached_image = cv2.imread(image, cv2.IMREAD_GRAYSCALE)\n",
    "    grayscale_image = copy.deepcopy(cached_image)\n",
    "    x_dim = cached_image.shape[1]\n",
    "    y_dim = cached_image.shape[0]\n",
    "\n",
    "    #Set margin size\n",
    "    margin_size = 15\n",
    "    margin_array = []\n",
    "\n",
    "    #Create margin array\n",
    "    for p in range(margin_size):\n",
    "        margin_array.append(False)\n",
    "\n",
    "    #Sum all pixels over y-axis and reshape array\n",
    "    sum_over_row = np.sum(cached_image, 1)\n",
    "    sum_over_row = sum_over_row.reshape(y_dim)\n",
    "\n",
    "    #Change threshold value based on sensor type\n",
    "    threshold = 100000 if \"FX10\" in image else 70000\n",
    "\n",
    "    #Apply threshold to sum to create binary mask\n",
    "    vertical_mask = sum_over_row > threshold\n",
    "\n",
    "    #Add margin to vertical mask\n",
    "    vertical_mask_padded_top = np.concatenate((vertical_mask[margin_size:], margin_array))\n",
    "    vertical_mask_padded_bot = np.concatenate((margin_array ,vertical_mask[:len(vertical_mask) - margin_size]))\n",
    "\n",
    "    #Combine original mask with padding\n",
    "    combined_mask = vertical_mask | vertical_mask_padded_top | vertical_mask_padded_bot\n",
    "\n",
    "    #Apply vertical mask to white image to create a binary image\n",
    "    result = np.ones(cached_image.shape)\n",
    "    result[combined_mask] = 0\n",
    "\n",
    "    #Save the binary image\n",
    "    cv2.imwrite('{}{}'.format(save_path, save_name), result.astype(np.uint8)*255)\n",
    "\n",
    "    ##-- for visualization purposes only --##\n",
    "\n",
    "    #Apply mask to grayscale image\n",
    "    cached_image[combined_mask] = 0\n",
    "\n",
    "    #Visualize the sum over x-axis and masking process\n",
    "    if visualize:\n",
    "        fig, (plt1, plt2) = plt.subplots(2, 1)\n",
    "        fig.suptitle('sum over y-axis')\n",
    "        fig.set_figwidth(10)\n",
    "        plt1.plot(sum_over_row)\n",
    "        plt2.plot(vertical_mask)\n",
    "\n",
    "        fig, (plt1, plt2, plt3) = plt.subplots(1, 3)\n",
    "        fig.suptitle('grayscale image, mask and mask applied to grayscale image')\n",
    "        plt1.imshow(grayscale_image, cmap=\"gray\")\n",
    "        plt2.imshow(result, cmap=\"gray\")\n",
    "        plt3.imshow(cached_image, cmap=\"gray\")"
   ]
  }
 ],
 "metadata": {
  "kernelspec": {
   "display_name": "Python 3",
   "language": "python",
   "name": "python3"
  },
  "language_info": {
   "codemirror_mode": {
    "name": "ipython",
    "version": 3
   },
   "file_extension": ".py",
   "mimetype": "text/x-python",
   "name": "python",
   "nbconvert_exporter": "python",
   "pygments_lexer": "ipython3",
   "version": "3.8.5 (tags/v3.8.5:580fbb0, Jul 20 2020, 15:57:54) [MSC v.1924 64 bit (AMD64)]"
  },
  "orig_nbformat": 4,
  "vscode": {
   "interpreter": {
    "hash": "9650cb4e16cdd4a8e8e2d128bf38d875813998db22a3c986335f89e0cb4d7bb2"
   }
  }
 },
 "nbformat": 4,
 "nbformat_minor": 2
}
